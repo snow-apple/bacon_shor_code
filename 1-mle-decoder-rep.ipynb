{
 "cells": [
  {
   "cell_type": "code",
   "execution_count": null,
   "metadata": {},
   "outputs": [],
   "source": [
    "!pip install gekko"
   ]
  },
  {
   "cell_type": "code",
   "execution_count": 1,
   "metadata": {},
   "outputs": [],
   "source": [
    "from gekko import GEKKO\n",
    "import numpy as np\n",
    "import random\n",
    "from contextlib import contextmanager\n",
    "import sys\n",
    "import os\n",
    "from rep_code import *\n",
    "import matplotlib.pyplot as plt"
   ]
  },
  {
   "cell_type": "markdown",
   "metadata": {},
   "source": [
    "Rep Code Decoder"
   ]
  },
  {
   "cell_type": "code",
   "execution_count": 8,
   "metadata": {},
   "outputs": [
    {
     "name": "stdout",
     "output_type": "stream",
     "text": [
      "Solution (0: no error, 1: error):  {0: [1.0], 1: [0.0], 2: [0.0]}\n"
     ]
    },
    {
     "data": {
      "text/plain": [
       "True"
      ]
     },
     "execution_count": 8,
     "metadata": {},
     "output_type": "execute_result"
    }
   ],
   "source": [
    "# rep code decoder\n",
    "@contextmanager\n",
    "def suppress_stdout():\n",
    "    with open(os.devnull, 'w') as devnull:\n",
    "        old_stdout = sys.stdout  # Backup current stdout\n",
    "        sys.stdout = devnull  # Redirect stdout to devnull (suppress)\n",
    "        try:\n",
    "            yield\n",
    "        finally:\n",
    "            sys.stdout = old_stdout  # Restore original stdout\n",
    "# settings ----\n",
    "num_qubits = 3\n",
    "num_stabilizers = num_qubits - 1\n",
    "p = 0.1\n",
    "\n",
    "ps = {} # error probs\n",
    "for i in range(num_qubits):\n",
    "    ps[i] = p # constant prob of error for now\n",
    "\n",
    "Cs = { # stabilizer check values, these are the measured stabilizer values\n",
    "    (0,1): -1, # Parity check value: -1 \n",
    "    (1,2): 1 # Parity check value: 1\n",
    "}\n",
    "# The above stabilizers indicate Z0Z1 = -1 and Z1Z2 = 1, so there's probably an error on the 0th qubit\n",
    "# Let's see if the MLE decoder can figure this out\n",
    "\n",
    "# set up gekko ----\n",
    "m = GEKKO(remote=False)\n",
    "m.options.SOLVER = 1  # APOPT is an MINLP solver\n",
    "# optional solver settings with APOPT\n",
    "m.solver_options = [\n",
    "    \"minlp_maximum_iterations 500\",  # minlp iterations with integer solution\n",
    "    \"minlp_max_iter_with_int_sol 10\",  # treat minlp as nlp\n",
    "    \"minlp_as_nlp 0\",  # nlp sub-problem max iterations\n",
    "    \"nlp_maximum_iterations 50\",  # 1 = depth first, 2 = breadth first\n",
    "    \"minlp_branch_method 1\",  # maximum deviation from whole number\n",
    "    \"minlp_integer_tol 0.05\",  # covergence tolerance\n",
    "    \"minlp_gap_tol 0.01\",\n",
    "    \"print_level 0\",\n",
    "]\n",
    "\n",
    "\n",
    "# set up variables ---\n",
    "Es = {}\n",
    "for i in range(num_qubits):\n",
    "    Es[i] = m.Var(\n",
    "        value=random.randint(0,1), lb=0, ub=1, integer=True\n",
    "    )\n",
    "\n",
    "Ks = {}\n",
    "for k in Cs.keys():\n",
    "    Ks[k] = m.Var(\n",
    "        value=random.randint(0,1), lb=0, integer=True\n",
    "    )\n",
    "\n",
    "\n",
    "# Objective ---\n",
    "m.Obj(\n",
    "    -m.sum(\n",
    "        [\n",
    "            np.log(ps[j]) * Es[j]  + np.log(1 - ps[j]) * (1 - Es[j])\n",
    "            for j in range(num_qubits)\n",
    "        ]\n",
    "    )\n",
    ")\n",
    "\n",
    "\n",
    "# Constraints ---\n",
    "\n",
    "for key, val in Cs.items():\n",
    "    i, j = key\n",
    "    m.Equation(Es[i] + Es[j] - 2 * Ks[key] == (1 - val)/2)\n",
    "\n",
    "with suppress_stdout():\n",
    "    m.solve()\n",
    "\n",
    "print(\"Solution (0: no error, 1: error): \", Es)\n",
    "Es[0][0] == 1"
   ]
  },
  {
   "cell_type": "code",
   "execution_count": null,
   "metadata": {},
   "outputs": [],
   "source": [
    "physical_error_probs = np.linspace(0.01, 1.0, num=10)#physical error probs\n",
    "physical_error_probs"
   ]
  },
  {
   "cell_type": "markdown",
   "metadata": {},
   "source": [
    "Graph"
   ]
  },
  {
   "cell_type": "code",
   "execution_count": 2,
   "metadata": {},
   "outputs": [
    {
     "name": "stdout",
     "output_type": "stream",
     "text": [
      "[0.0009765625, 0.001953125, 0.0087890625, 0.0185546875, 0.025390625, 0.037109375, 0.0576171875, 0.064453125, 0.0810546875, 0.0966796875, 0.10546875, 0.1328125, 0.1611328125, 0.1767578125, 0.19140625, 0.2373046875, 0.2705078125, 0.263671875, 0.294921875, 0.34765625, 0.36328125, 0.3623046875, 0.416015625, 0.4580078125, 0.482421875, 0.4970703125, 0.4638671875, 0.396484375, 0.41015625, 0.359375, 0.330078125, 0.287109375, 0.2841796875, 0.2587890625, 0.232421875, 0.1904296875, 0.189453125, 0.1591796875, 0.1240234375, 0.126953125, 0.08984375, 0.0751953125, 0.05078125, 0.0439453125, 0.0390625, 0.01953125, 0.009765625, 0.0048828125, 0.001953125, 0.0]\n"
     ]
    }
   ],
   "source": [
    "# rep code decoder\n",
    "@contextmanager\n",
    "def suppress_stdout():\n",
    "    with open(os.devnull, 'w') as devnull:\n",
    "        old_stdout = sys.stdout  # Backup current stdout\n",
    "        sys.stdout = devnull  # Redirect stdout to devnull (suppress)\n",
    "        try:\n",
    "            yield\n",
    "        finally:\n",
    "            sys.stdout = old_stdout  # Restore original stdout\n",
    "# settings ----\n",
    "num_qubits = 3\n",
    "num_stabilizers = num_qubits - 1\n",
    "# p = 0.1\n",
    "\n",
    "physical_error_probs = np.linspace(0.01, 0.99, num=50)#physical error probs\n",
    "logical_error_probs =[]\n",
    "for p in physical_error_probs: \n",
    "    count = 0 #number of correct guesses from solver\n",
    "    for i in range(1024):\n",
    "        ps = {i: p for i in range(num_qubits)}\n",
    "        error_string = create_error(num_qubits, p)\n",
    "\n",
    "        Cs = construct_stabilizers(num_qubits, error_string)\n",
    "\n",
    "\n",
    "        # set up gekko ----\n",
    "        m = GEKKO(remote=False)\n",
    "        m.options.SOLVER = 1  # APOPT is an MINLP solver\n",
    "            # optional solver settings with APOPT\n",
    "\n",
    "    \n",
    "        m.solver_options = [\n",
    "            \"minlp_maximum_iterations 500\",  # minlp iterations with integer solution\n",
    "            \"minlp_max_iter_with_int_sol 10\",  # treat minlp as nlp\n",
    "            \"minlp_as_nlp 0\",  # nlp sub-problem max iterations\n",
    "            \"nlp_maximum_iterations 50\",  # 1 = depth first, 2 = breadth first\n",
    "            \"minlp_branch_method 1\",  # maximum deviation from whole number\n",
    "            \"minlp_integer_tol 0.05\",  # covergence tolerance\n",
    "            \"minlp_gap_tol 0.01\",\n",
    "            \"print_level 0\",\n",
    "        ]\n",
    "        \n",
    "\n",
    "        # set up variables ---\n",
    "        Es = {}\n",
    "        for i in range(num_qubits):\n",
    "            Es[i] = m.Var(\n",
    "                value=random.randint(0,1), lb=0, ub=1, integer=True\n",
    "            )\n",
    "\n",
    "        Ks = {}\n",
    "        for k in Cs.keys():\n",
    "            Ks[k] = m.Var(\n",
    "                value=random.randint(0,1), lb=0, integer=True\n",
    "            )\n",
    "\n",
    "\n",
    "        # Objective ---\n",
    "        m.Obj(\n",
    "            -m.sum(\n",
    "                [\n",
    "                    np.log(ps[j]) * Es[j]  + np.log(1 - ps[j]) * (1 - Es[j])\n",
    "                    for j in range(num_qubits)\n",
    "                ]\n",
    "            )\n",
    "        )\n",
    "\n",
    "\n",
    "        # Constraints ---\n",
    "\n",
    "        for key, val in Cs.items():\n",
    "            i, j = key\n",
    "            m.Equation(Es[i] + Es[j] - 2 * Ks[key] == (1 - val)/2)\n",
    "\n",
    "        with suppress_stdout():\n",
    "            m.solve()\n",
    "        \n",
    "        if(solver_accuracy(num_qubits, error_string, Es)!=True):\n",
    "            count+=1\n",
    "    logical_error_probs.append(count/1024)\n",
    "\n",
    "print(logical_error_probs)"
   ]
  },
  {
   "cell_type": "code",
   "execution_count": 6,
   "metadata": {},
   "outputs": [
    {
     "data": {
      "text/plain": [
       "array([0.01, 0.03, 0.05, 0.07, 0.09, 0.11, 0.13, 0.15, 0.17, 0.19, 0.21,\n",
       "       0.23, 0.25, 0.27, 0.29, 0.31, 0.33, 0.35, 0.37, 0.39, 0.41, 0.43,\n",
       "       0.45, 0.47, 0.49, 0.51, 0.53, 0.55, 0.57, 0.59, 0.61, 0.63, 0.65,\n",
       "       0.67, 0.69, 0.71, 0.73, 0.75, 0.77, 0.79, 0.81, 0.83, 0.85, 0.87,\n",
       "       0.89, 0.91, 0.93, 0.95, 0.97, 0.99])"
      ]
     },
     "execution_count": 6,
     "metadata": {},
     "output_type": "execute_result"
    }
   ],
   "source": [
    "physical_error_probs = np.linspace(0.01, 0.99, num=50)\n",
    "physical_error_probs"
   ]
  },
  {
   "cell_type": "code",
   "execution_count": 3,
   "metadata": {},
   "outputs": [
    {
     "name": "stderr",
     "output_type": "stream",
     "text": [
      "No handles with labels found to put in legend.\n"
     ]
    },
    {
     "data": {
      "image/png": "[encoded data removed]",
      "text/plain": [
       "<Figure size 800x600 with 1 Axes>"
      ]
     },
     "metadata": {
      "needs_background": "light"
     },
     "output_type": "display_data"
    }
   ],
   "source": [
    "def plot(physical, logical):\n",
    "    fig,ax = plt.subplots(1,1,dpi=200,figsize = (4,3))\n",
    "    ax.plot(physical,logical)\n",
    "    ax.legend(fontsize=6)\n",
    "    ax.set_xlabel(\"Physical Error Rate (p)\")\n",
    "    ax.set_ylabel(\"Logical Error Rate\")\n",
    "    plt.plot()\n",
    "plot(physical_error_probs, logical_error_probs)"
   ]
  },
  {
   "cell_type": "code",
   "execution_count": null,
   "metadata": {},
   "outputs": [],
   "source": []
  }
 ],
 "metadata": {
  "kernelspec": {
   "display_name": "qc-env",
   "language": "python",
   "name": "python3"
  },
  "language_info": {
   "codemirror_mode": {
    "name": "ipython",
    "version": 3
   },
   "file_extension": ".py",
   "mimetype": "text/x-python",
   "name": "python",
   "nbconvert_exporter": "python",
   "pygments_lexer": "ipython3",
   "version": "3.8.5"
  }
 },
 "nbformat": 4,
 "nbformat_minor": 2
}
