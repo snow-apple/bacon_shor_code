{
 "cells": [
  {
   "cell_type": "code",
   "execution_count": 4,
   "metadata": {},
   "outputs": [
    {
     "name": "stdout",
     "output_type": "stream",
     "text": [
      "Collecting gekko\n",
      "  Downloading gekko-1.2.1-py3-none-any.whl (13.2 MB)\n",
      "\u001b[2K     \u001b[90m━━━━━━━━━━━━━━━━━━━━━━━━━━━━━━━━━━━━━━━━\u001b[0m \u001b[32m13.2/13.2 MB\u001b[0m \u001b[31m32.0 MB/s\u001b[0m eta \u001b[36m0:00:00\u001b[0m00:01\u001b[0m00:01\u001b[0m\n",
      "\u001b[?25hRequirement already satisfied: numpy>=1.8 in /Users/shwetlanajha/opt/miniconda3/envs/qc-env/lib/python3.8/site-packages (from gekko) (1.19.2)\n",
      "Installing collected packages: gekko\n",
      "Successfully installed gekko-1.2.1\n"
     ]
    }
   ],
   "source": [
    "!pip install gekko"
   ]
  },
  {
   "cell_type": "code",
   "execution_count": 5,
   "metadata": {},
   "outputs": [],
   "source": [
    "from gekko import GEKKO\n",
    "import numpy as np\n",
    "import random"
   ]
  },
  {
   "cell_type": "code",
   "execution_count": null,
   "metadata": {},
   "outputs": [
    {
     "name": "stdout",
     "output_type": "stream",
     "text": [
      " ----------------------------------------------------------------\n",
      " APMonitor, Version 1.0.3\n",
      " APMonitor Optimization Suite\n",
      " ----------------------------------------------------------------\n",
      " \n",
      " \n",
      " --------- APM Model Size ------------\n",
      " Each time step contains\n",
      "   Objects      :            1\n",
      "   Constants    :            0\n",
      "   Variables    :            9\n",
      "   Intermediates:            0\n",
      "   Connections  :            4\n",
      "   Equations    :            6\n",
      "   Residuals    :            6\n",
      " \n",
      " Number of state variables:              9\n",
      " Number of total equations: -            6\n",
      " Number of slack variables: -            0\n",
      " ---------------------------------------\n",
      " Degrees of freedom       :              3\n",
      " \n",
      " ----------------------------------------------\n",
      " Steady State Optimization with APOPT Solver\n",
      " ----------------------------------------------\n",
      "Iter:     1 I:  0 Tm:      0.00 NLPi:    2 Dpth:    0 Lvs:    3 Obj:  2.51E+00 Gap:       NaN\n",
      "Iter:     2 I: -1 Tm:      0.00 NLPi:    1 Dpth:    1 Lvs:    2 Obj:  2.51E+00 Gap:       NaN\n",
      "--Integer Solution:   2.51E+00 Lowest Leaf:   2.51E+00 Gap:   0.00E+00\n",
      "Iter:     3 I:  0 Tm:      0.00 NLPi:    2 Dpth:    1 Lvs:    2 Obj:  2.51E+00 Gap:  0.00E+00\n",
      " Successful solution\n",
      " \n",
      " ---------------------------------------------------\n",
      " Solver         :  APOPT (v1.0)\n",
      " Solution time  :   8.899999986169860E-003 sec\n",
      " Objective      :    2.51330612430970     \n",
      " Successful solution\n",
      " ---------------------------------------------------\n",
      " \n",
      "\n",
      "Solution (0: no error, 1: error):  {0: [1.0], 1: [0.0], 2: [0.0]}\n"
     ]
    }
   ],
   "source": [
    "# rep code decoder\n",
    "\n",
    "# settings ----\n",
    "num_qubits = 3\n",
    "num_stabilizers = num_qubits - 1\n",
    "p = 0.1\n",
    "\n",
    "ps = {} # error probs\n",
    "for i in range(num_qubits):\n",
    "    ps[i] = p # constant prob of error for now\n",
    "\n",
    "Cs = { # stabilizer check values, these are the measured stabilizer values\n",
    "    (0,1): -1, # Parity check value: -1 \n",
    "    (1,2): 1 # Parity check value: 1\n",
    "}\n",
    "# The above stabilizers indicate Z0Z1 = -1 and Z1Z2 = 1, so there's probably an error on the 0th qubit\n",
    "# Let's see if the MLE decoder can figure this out\n",
    "\n",
    "# set up gekko ----\n",
    "m = GEKKO(remote=False)\n",
    "m.options.SOLVER = 1  # APOPT is an MINLP solver\n",
    "# optional solver settings with APOPT\n",
    "m.solver_options = [\n",
    "    \"minlp_maximum_iterations 500\",  # minlp iterations with integer solution\n",
    "    \"minlp_max_iter_with_int_sol 10\",  # treat minlp as nlp\n",
    "    \"minlp_as_nlp 0\",  # nlp sub-problem max iterations\n",
    "    \"nlp_maximum_iterations 50\",  # 1 = depth first, 2 = breadth first\n",
    "    \"minlp_branch_method 1\",  # maximum deviation from whole number\n",
    "    \"minlp_integer_tol 0.05\",  # covergence tolerance\n",
    "    \"minlp_gap_tol 0.01\",\n",
    "]\n",
    "\n",
    "\n",
    "# set up variables ---\n",
    "Es = {}\n",
    "for i in range(num_qubits):\n",
    "    Es[i] = m.Var(\n",
    "        value=random.randint(0,1), lb=0, ub=1, integer=True\n",
    "    )\n",
    "\n",
    "Ks = {}\n",
    "for k in Cs.keys():\n",
    "    Ks[k] = m.Var(\n",
    "        value=random.randint(0,1), lb=0, integer=True\n",
    "    )\n",
    "\n",
    "\n",
    "# Objective ---\n",
    "m.Obj(\n",
    "    -m.sum(\n",
    "        [\n",
    "            np.log(ps[j]) * Es[j]  + np.log(1 - ps[j]) * (1 - Es[j])\n",
    "            for j in range(num_qubits)\n",
    "        ]\n",
    "    )\n",
    ")\n",
    "\n",
    "\n",
    "# Constraints ---\n",
    "\n",
    "for key, val in Cs.items():\n",
    "    i, j = key\n",
    "    m.Equation(Es[i] + Es[j] - 2 * Ks[key] == (1 - val)/2)\n",
    "\n",
    "m.solve()\n",
    "\n",
    "print(\"Solution (0: no error, 1: error): \", Es)"
   ]
  },
  {
   "cell_type": "code",
   "execution_count": null,
   "metadata": {},
   "outputs": [],
   "source": []
  }
 ],
 "metadata": {
  "kernelspec": {
   "display_name": "qc-env",
   "language": "python",
   "name": "python3"
  },
  "language_info": {
   "codemirror_mode": {
    "name": "ipython",
    "version": 3
   },
   "file_extension": ".py",
   "mimetype": "text/x-python",
   "name": "python",
   "nbconvert_exporter": "python",
   "pygments_lexer": "ipython3",
   "version": "3.8.5"
  }
 },
 "nbformat": 4,
 "nbformat_minor": 2
}
