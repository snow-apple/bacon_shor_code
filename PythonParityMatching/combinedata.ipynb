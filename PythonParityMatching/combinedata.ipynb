{
 "cells": [
  {
   "cell_type": "code",
   "execution_count": null,
   "id": "f5849821",
   "metadata": {},
   "outputs": [],
   "source": [
    "from baconshor import *"
   ]
  },
  {
   "cell_type": "code",
   "execution_count": null,
   "id": "d0bf90cd",
   "metadata": {},
   "outputs": [],
   "source": [
    "combine_parallel_data(10, \"threshold\", \".txt\", \"thresholdscipy.txt\")"
   ]
  }
 ],
 "metadata": {
  "language_info": {
   "name": "python"
  }
 },
 "nbformat": 4,
 "nbformat_minor": 5
}
