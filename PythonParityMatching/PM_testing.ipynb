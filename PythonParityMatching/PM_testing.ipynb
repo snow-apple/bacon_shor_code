{
 "cells": [
  {
   "cell_type": "code",
   "execution_count": 1,
   "id": "aed9abeb",
   "metadata": {},
   "outputs": [],
   "source": [
    "from baconshor import *\n",
    "from pm import *"
   ]
  },
  {
   "cell_type": "code",
   "execution_count": 6,
   "id": "2580037c",
   "metadata": {},
   "outputs": [
    {
     "name": "stdout",
     "output_type": "stream",
     "text": [
      "Error grid:\n",
      "0 0 0 0 0 \n",
      "0 0 0 0 0 \n",
      "0 0 0 0 1 \n",
      "0 0 0 0 0 \n",
      "0 0 0 0 0 \n",
      "{'row': [2], 'col': [4]}\n",
      "0 0 0 0 0 \n",
      "0 0 0 0 0 \n",
      "0 0 0 0 1 \n",
      "0 0 0 0 0 \n",
      "0 0 0 0 0 \n"
     ]
    },
    {
     "data": {
      "text/plain": [
       "True"
      ]
     },
     "execution_count": 6,
     "metadata": {},
     "output_type": "execute_result"
    }
   ],
   "source": [
    "d = 5\n",
    "# error_positions = [3,22]\n",
    "I = construct_stabilizers_scipy_I(d)\n",
    "#1. generate array \n",
    "# grid = create_grid(d)\n",
    "grid = random_error_grid(d,0.1)\n",
    "#2.add errors\n",
    "# add_y_error(grid,error_positions)\n",
    "print(\"Error grid:\")\n",
    "Print(grid)\n",
    "#3. Measure states\n",
    "C = construct_stabilizers_scipy_C(I,grid)\n",
    "# print(C)\n",
    "\n",
    "#4. Get Lengths\n",
    "r1,r2,c1,c2 = get_matchings(C)\n",
    "\n",
    "#5. Identify minimum weight rows and cols\n",
    "lowest_matching_weights = get_lowest_matching(r1,r2,c1,c2)\n",
    "print(lowest_matching_weights)\n",
    "\n",
    "#6. Applying correction based on intersection \n",
    "predicted_grid = intersection_correction(d,lowest_matching_weights)\n",
    "Print(predicted_grid)\n",
    "#7. Check if correction produced logical error or not\n",
    "solver_accuracy(d, grid, predicted_grid)\n"
   ]
  },
  {
   "cell_type": "code",
   "execution_count": null,
   "id": "b3b20fa2",
   "metadata": {},
   "outputs": [],
   "source": []
  }
 ],
 "metadata": {
  "kernelspec": {
   "display_name": "base",
   "language": "python",
   "name": "python3"
  },
  "language_info": {
   "codemirror_mode": {
    "name": "ipython",
    "version": 3
   },
   "file_extension": ".py",
   "mimetype": "text/x-python",
   "name": "python",
   "nbconvert_exporter": "python",
   "pygments_lexer": "ipython3",
   "version": "3.12.4"
  }
 },
 "nbformat": 4,
 "nbformat_minor": 5
}
