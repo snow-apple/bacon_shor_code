{
 "cells": [
  {
   "cell_type": "code",
   "execution_count": null,
   "metadata": {},
   "outputs": [],
   "source": [
    "!pip install gekko"
   ]
  },
  {
   "cell_type": "code",
   "execution_count": 1,
   "metadata": {},
   "outputs": [],
   "source": [
    "from gekko import GEKKO\n",
    "import numpy as np\n",
    "import random\n",
    "from baconshor import *\n",
    "import sys\n",
    "import os\n",
    "from contextlib import contextmanager"
   ]
  },
  {
   "cell_type": "code",
   "execution_count": null,
   "metadata": {},
   "outputs": [],
   "source": [
    "#surpress the print statement from the solver\n",
    "\n",
    "@contextmanager\n",
    "def suppress_stdout():\n",
    "    with open(os.devnull, 'w') as devnull:\n",
    "        old_stdout = sys.stdout  # Backup current stdout\n",
    "        sys.stdout = devnull  # Redirect stdout to devnull (suppress)\n",
    "        try:\n",
    "            yield\n",
    "        finally:\n",
    "            sys.stdout = old_stdout  # Restore original stdout\n",
    "# settings ----\n",
    "d=3\n",
    "num_qubits =d**2\n",
    "num_stabilizers =(d - 1)**2\n",
    "p = 0.3\n",
    "\n",
    "ps = {i: p for i in range(num_qubits)}\n",
    "\n",
    "grid = random_error_grid(d,p)\n",
    "print(\"ErrorGrid: \")\n",
    "Print(grid)\n",
    "\n",
    "Cs = construct_stabilizers(d,grid)\n",
    "# print(\"Stabilizer Measurements: \")\n",
    "# print(Cs)\n",
    "\n",
    "# set up gekko ----\n",
    "m = GEKKO(remote=False)\n",
    "m.options.SOLVER = 1  # APOPT is an MINLP solver\n",
    "# optional solver settings with APOPT\n",
    "m.solver_options = [\n",
    "    \"minlp_maximum_iterations 500\",  # minlp iterations with integer solution\n",
    "    \"minlp_max_iter_with_int_sol 10\",  # treat minlp as nlp\n",
    "    \"minlp_as_nlp 0\",  \n",
    "    # nlp sub-problem max iterations\n",
    "    \"nlp_maximum_iterations 50\",  # 1 = depth first, 2 = breadth first\n",
    "    \"minlp_branch_method 1\",  # maximum deviation from whole number\n",
    "    \"minlp_integer_tol 0.05\",  # covergence tolerance\n",
    "    \"minlp_gap_tol 0.01\",\n",
    "    \"print_level 0\",\n",
    "]\n",
    "\n",
    "\n",
    "# set up variables ---\n",
    "Es = {}\n",
    "for i in range(num_qubits):\n",
    "    Es[i] = m.Var(\n",
    "        value=random.randint(0,1), lb=0, ub=1, integer=True\n",
    "    )\n",
    "\n",
    "Ks = {}\n",
    "for k in Cs.keys():\n",
    "    Ks[k] = m.Var(\n",
    "        value=random.randint(0,1), lb=0, integer=True\n",
    "    )\n",
    "\n",
    "\n",
    "# Objective ---\n",
    "m.Obj(\n",
    "    -m.sum(\n",
    "        [\n",
    "            np.log(ps[j]) * Es[j]  + np.log(1 - ps[j]) * (1 - Es[j])\n",
    "            for j in range(num_qubits)\n",
    "        ]\n",
    "    )\n",
    ")\n",
    "\n",
    "\n",
    "# Constraints ---\n",
    "\n",
    "for key, val in Cs.items():\n",
    "    i, j,k,l,o,n = key\n",
    "    # m.Equation(Es[i] + Es[j] - 2 * Ks[key] == (1 - val)/2)\n",
    "    m.Equation(m.sum([Es[i] for i in key]) - 2 * Ks[key] == (1 - val)/2) #automatically sums over all the qubits in the stabilizer key\n",
    "\n",
    "with suppress_stdout():\n",
    "    m.solve()\n",
    "\n",
    "print(\"Solver's Guess: \")\n",
    "predicted = solver_to_grid(d, Es)\n",
    "Print(predicted)\n",
    "print(\"Was the solver correct? \")\n",
    "print(solver_accuracy(d, grid, predicted))\n"
   ]
  },
  {
   "cell_type": "markdown",
   "metadata": {},
   "source": [
    "Graph"
   ]
  },
  {
   "cell_type": "code",
   "execution_count": 2,
   "metadata": {},
   "outputs": [],
   "source": [
    "#surpress the print statement from the solver\n",
    "\n",
    "@contextmanager\n",
    "def suppress_stdout():\n",
    "    with open(os.devnull, 'w') as devnull:\n",
    "        old_stdout = sys.stdout  # Backup current stdout\n",
    "        sys.stdout = devnull  # Redirect stdout to devnull (suppress)\n",
    "        try:\n",
    "            yield\n",
    "        finally:\n",
    "            sys.stdout = old_stdout  # Restore original stdout\n",
    "# settings ----\n",
    "d=3\n",
    "num_qubits =d**2\n",
    "num_stabilizers =(d - 1)**2\n",
    "\n",
    "\n",
    "physical_error_probs = np.linspace(0.01, 0.70, num=50)#physical error probs\n",
    "logical_error_probs=[]\n",
    "for p in physical_error_probs: \n",
    "    count = 0 #number of correct guesses from solver\n",
    "    for i in range(500):\n",
    "\n",
    "        ps = {i: p for i in range(num_qubits)}\n",
    "\n",
    "        grid = random_error_grid(d,p)\n",
    "        # print(\"ErrorGrid: \") \n",
    "        # Print(grid)\n",
    "\n",
    "        Cs = construct_stabilizers(d,grid)\n",
    "        # print(\"Stabilizer Measurements: \")\n",
    "        # print(Cs)\n",
    "\n",
    "        # set up gekko ----\n",
    "        m = GEKKO(remote=False)\n",
    "        m.options.SOLVER = 1  # APOPT is an MINLP solver\n",
    "        # optional solver settings with APOPT\n",
    "        m.solver_options = [\n",
    "            \"minlp_maximum_iterations 500\",  # minlp iterations with integer solution\n",
    "            \"minlp_max_iter_with_int_sol 10\",  # treat minlp as nlp\n",
    "            \"minlp_as_nlp 0\",  \n",
    "            # nlp sub-problem max iterations\n",
    "            \"nlp_maximum_iterations 50\",  # 1 = depth first, 2 = breadth first\n",
    "            \"minlp_branch_method 1\",  # maximum deviation from whole number\n",
    "            \"minlp_integer_tol 0.05\",  # covergence tolerance\n",
    "            \"minlp_gap_tol 0.01\",\n",
    "            \"print_level 0\",\n",
    "        ]\n",
    "\n",
    "\n",
    "        # set up variables ---\n",
    "        Es = {}\n",
    "        for i in range(num_qubits):\n",
    "            Es[i] = m.Var(\n",
    "                value=random.randint(0,1), lb=0, ub=1, integer=True\n",
    "            )\n",
    "\n",
    "        Ks = {}\n",
    "        for k in Cs.keys():\n",
    "            Ks[k] = m.Var(\n",
    "                value=random.randint(0,1), lb=0, integer=True\n",
    "            )\n",
    "\n",
    "\n",
    "        # Objective ---\n",
    "        m.Obj(\n",
    "            -m.sum(\n",
    "                [\n",
    "                    np.log(ps[j]) * Es[j]  + np.log(1 - ps[j]) * (1 - Es[j])\n",
    "                    for j in range(num_qubits)\n",
    "                ]\n",
    "            )\n",
    "        )\n",
    "\n",
    "\n",
    "        # Constraints ---\n",
    "\n",
    "        for key, val in Cs.items():\n",
    "            i, j,k,l,o,n = key\n",
    "            # m.Equation(Es[i] + Es[j] - 2 * Ks[key] == (1 - val)/2)\n",
    "            m.Equation(m.sum([Es[i] for i in key]) - 2 * Ks[key] == (1 - val)/2) #automatically sums over all the qubits in the stabilizer key\n",
    "\n",
    "        with suppress_stdout():\n",
    "            m.solve()\n",
    "\n",
    "        # print(\"Solver's Guess: \")\n",
    "        # Print_Solver(d, Es)\n",
    "        # print(\"Was the solver correct? \")\n",
    "        # print(solver_accuracy(d, grid,Es))\n",
    "        if(solver_accuracy(d, grid,solver_to_grid(d,Es))!= True):\n",
    "            count+=1\n",
    "    logical_error_probs.append(count/500)\n",
    "\n",
    "    \n"
   ]
  },
  {
   "cell_type": "code",
   "execution_count": null,
   "metadata": {},
   "outputs": [],
   "source": [
    "#make plot p vs percent decoder was right - run each p like 1000 times \n",
    "print(logical_error_probs)"
   ]
  },
  {
   "cell_type": "code",
   "execution_count": null,
   "metadata": {},
   "outputs": [],
   "source": [
    "\n",
    "#add to overleaf\n",
    "#rep code more shots"
   ]
  },
  {
   "cell_type": "code",
   "execution_count": 3,
   "metadata": {},
   "outputs": [
    {
     "name": "stderr",
     "output_type": "stream",
     "text": [
      "No handles with labels found to put in legend.\n"
     ]
    },
    {
     "data": {
      "image/png": "[encoded data removed]",
      "text/plain": [
       "<Figure size 800x600 with 1 Axes>"
      ]
     },
     "metadata": {
      "needs_background": "light"
     },
     "output_type": "display_data"
    }
   ],
   "source": [
    "plot(physical_error_probs, logical_error_probs)"
   ]
  },
  {
   "cell_type": "code",
   "execution_count": null,
   "metadata": {},
   "outputs": [],
   "source": []
  }
 ],
 "metadata": {
  "kernelspec": {
   "display_name": "qc-env",
   "language": "python",
   "name": "python3"
  },
  "language_info": {
   "codemirror_mode": {
    "name": "ipython",
    "version": 3
   },
   "file_extension": ".py",
   "mimetype": "text/x-python",
   "name": "python",
   "nbconvert_exporter": "python",
   "pygments_lexer": "ipython3",
   "version": "3.8.5"
  }
 },
 "nbformat": 4,
 "nbformat_minor": 2
}
