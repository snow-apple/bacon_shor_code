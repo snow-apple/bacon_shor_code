{
 "cells": [
  {
   "cell_type": "code",
   "execution_count": 2,
   "metadata": {},
   "outputs": [],
   "source": [
    "%load_ext autoreload\n",
    "%autoreload 2"
   ]
  },
  {
   "cell_type": "code",
   "execution_count": 3,
   "metadata": {},
   "outputs": [],
   "source": [
    "from baconshor import *"
   ]
  },
  {
   "cell_type": "code",
   "execution_count": null,
   "metadata": {},
   "outputs": [
    {
     "name": "stdout",
     "output_type": "stream",
     "text": [
      "[3, 5, 9]\n",
      "0 0 1 \n",
      "0 1 0 \n",
      "0 0 1 \n"
     ]
    }
   ],
   "source": [
    "\n",
    "\n",
    "    "
   ]
  },
  {
   "cell_type": "code",
   "execution_count": 11,
   "metadata": {},
   "outputs": [
    {
     "data": {
      "text/plain": [
       "[0, 1, 2, 3, 4, 5, 6, 7, 8]"
      ]
     },
     "execution_count": 11,
     "metadata": {},
     "output_type": "execute_result"
    }
   ],
   "source": [
    "\n",
    "list1"
   ]
  },
  {
   "cell_type": "code",
   "execution_count": 19,
   "metadata": {},
   "outputs": [
    {
     "name": "stdout",
     "output_type": "stream",
     "text": [
      "[True, True]\n",
      "False\n",
      "[False, False]\n"
     ]
    },
    {
     "data": {
      "text/plain": [
       "True"
      ]
     },
     "execution_count": 19,
     "metadata": {},
     "output_type": "execute_result"
    }
   ],
   "source": [
    "#True means that it was odd\n",
    "print(check_config_col(grid))\n",
    "check_config_row(grid)"
   ]
  },
  {
   "cell_type": "code",
   "execution_count": 7,
   "metadata": {},
   "outputs": [
    {
     "name": "stdout",
     "output_type": "stream",
     "text": [
      "0 0 0 \n",
      "1 1 1 \n",
      "0 0 0 \n"
     ]
    },
    {
     "data": {
      "text/plain": [
       "{(0, 3, 1, 4, 2, 5): -1,\n",
       " (0, 1, 3, 4, 6, 7): 1,\n",
       " (3, 6, 4, 7, 5, 8): -1,\n",
       " (1, 2, 4, 5, 7, 8): 1}"
      ]
     },
     "execution_count": 7,
     "metadata": {},
     "output_type": "execute_result"
    }
   ],
   "source": [
    "grid = create_grid(3)\n",
    "p = 0.4\n",
    "import random\n",
    "list1 = list(range(9))\n",
    "#where to add y errors\n",
    "error_list = []\n",
    "for i in range(len(list1)):\n",
    "    x = random.random()\n",
    "    if x < p:\n",
    "        error_list.append(list1[i]+1)\n",
    "# print(errorlist)\n",
    "add_y_error(grid,error_list)\n",
    "\n",
    "Print(grid)\n",
    "\n",
    "\n",
    "#make Cs values\n",
    "d=3\n",
    "\n",
    "total = []\n",
    "for i in range(d-1):\n",
    "    listrow=[]\n",
    "    listcol=[]\n",
    "    for q in range(d):\n",
    "        listrow.append(d*i +q)\n",
    "        listrow.append((d)*(i+1) + q)\n",
    "        # listcol.append((d*q +i))\n",
    "        listcol.append(d*q +i)\n",
    "        listcol.append(d*q +(i+1))\n",
    "\n",
    "    total.append(listrow)\n",
    "    total.append(listcol) \n",
    "# print(total)\n",
    "Cs = {}\n",
    "for l in total:\n",
    "    Cs[tuple(l)] = check_stabilizer(grid, l)\n",
    "Cs"
   ]
  },
  {
   "cell_type": "code",
   "execution_count": 25,
   "metadata": {},
   "outputs": [
    {
     "name": "stdout",
     "output_type": "stream",
     "text": [
      "1 1 0 \n",
      "0 0 0 \n",
      "0 0 0 \n"
     ]
    },
    {
     "data": {
      "text/plain": [
       "-1"
      ]
     },
     "execution_count": 25,
     "metadata": {},
     "output_type": "execute_result"
    }
   ],
   "source": [
    "grid_test = create_grid(3)\n",
    "add_y_error(grid_test, [1,2])\n",
    "Print(grid_test)\n",
    "check_stabilizer(grid_test,total[3])"
   ]
  },
  {
   "cell_type": "code",
   "execution_count": 16,
   "metadata": {},
   "outputs": [
    {
     "data": {
      "text/plain": [
       "2"
      ]
     },
     "execution_count": 16,
     "metadata": {},
     "output_type": "execute_result"
    }
   ],
   "source": [
    "-1 % 3"
   ]
  },
  {
   "cell_type": "code",
   "execution_count": null,
   "metadata": {},
   "outputs": [
    {
     "ename": "SyntaxError",
     "evalue": "invalid syntax (<ipython-input-6-0e130d6b1435>, line 1)",
     "output_type": "error",
     "traceback": [
      "\u001b[0;36m  File \u001b[0;32m\"<ipython-input-6-0e130d6b1435>\"\u001b[0;36m, line \u001b[0;32m1\u001b[0m\n\u001b[0;31m    (int)4/3\u001b[0m\n\u001b[0m         ^\u001b[0m\n\u001b[0;31mSyntaxError\u001b[0m\u001b[0;31m:\u001b[0m invalid syntax\n"
     ]
    }
   ],
   "source": []
  },
  {
   "cell_type": "code",
   "execution_count": null,
   "metadata": {},
   "outputs": [],
   "source": []
  }
 ],
 "metadata": {
  "kernelspec": {
   "display_name": "qc-env",
   "language": "python",
   "name": "python3"
  },
  "language_info": {
   "codemirror_mode": {
    "name": "ipython",
    "version": 3
   },
   "file_extension": ".py",
   "mimetype": "text/x-python",
   "name": "python",
   "nbconvert_exporter": "python",
   "pygments_lexer": "ipython3",
   "version": "3.8.5"
  }
 },
 "nbformat": 4,
 "nbformat_minor": 2
}
